{
 "cells": [
  {
   "cell_type": "code",
   "execution_count": 2,
   "metadata": {},
   "outputs": [],
   "source": [
    "from math import sqrt"
   ]
  },
  {
   "cell_type": "code",
   "execution_count": 3,
   "metadata": {},
   "outputs": [],
   "source": [
    "from fractions import Fraction"
   ]
  },
  {
   "cell_type": "code",
   "execution_count": 4,
   "metadata": {},
   "outputs": [
    {
     "data": {
      "text/plain": [
       "(Fraction(3, 5), Fraction(4, 5), Fraction(3, 4))"
      ]
     },
     "execution_count": 4,
     "metadata": {},
     "output_type": "execute_result"
    }
   ],
   "source": [
    "def all_ratios(exp,num, den):\n",
    "\t\n",
    "\tif exp==\"tan\":\n",
    "\t\thyp=int(sqrt((num**2)+den**2))\n",
    "\t\topp=int(num)\n",
    "\t\tadj=int(den)\n",
    "\tif exp == \"sin\":\n",
    "\t\tadj=int(sqrt((den**2)-(num**2)))\n",
    "\t\topp=int(num)\n",
    "\t\thyp=int(den)\n",
    "\tif exp == \"cos\":\n",
    "\t\topp=int(sqrt((den**2)-(num**2)))\n",
    "\t\tadj=int(num)\n",
    "\t\thyp=int(den)\n",
    "\tsin =Fraction(int(opp),int(hyp))\n",
    "\tcos=Fraction(int(adj),int(hyp))\n",
    "\ttan=Fraction(int(opp),int(adj))\n",
    "\n",
    "\treturn (sin, cos, tan)\n",
    "\n",
    "\t\n",
    "all_ratios(\"tan\", 3,4)\n",
    "\t\n",
    "\n"
   ]
  },
  {
   "cell_type": "code",
   "execution_count": null,
   "metadata": {},
   "outputs": [],
   "source": [
    "def calc_other_side(hyp=None, adj=None, opp=) "
   ]
  },
  {
   "cell_type": "code",
   "execution_count": 6,
   "metadata": {},
   "outputs": [],
   "source": [
    "sin,cos,tan=all_ratios(\"tan\", 3,4)"
   ]
  },
  {
   "cell_type": "code",
   "execution_count": 7,
   "metadata": {},
   "outputs": [
    {
     "data": {
      "text/plain": [
       "Fraction(1, 1)"
      ]
     },
     "execution_count": 7,
     "metadata": {},
     "output_type": "execute_result"
    }
   ],
   "source": [
    "cos ** 2 + sin ** 2"
   ]
  },
  {
   "cell_type": "code",
   "execution_count": 13,
   "metadata": {},
   "outputs": [
    {
     "data": {
      "text/plain": [
       "(Fraction(3, 5), Fraction(4, 5), Fraction(3, 4))"
      ]
     },
     "execution_count": 13,
     "metadata": {},
     "output_type": "execute_result"
    }
   ],
   "source": [
    "def all_ratios(num, den, tan=None,sin=None, cos=None):\n",
    "\t\n",
    "\tif tan:\n",
    "\t\thyp=int(sqrt((num**2)+den**2))\n",
    "\t\topp=int(num)\n",
    "\t\tadj=int(den)\n",
    "\telif sin:\n",
    "\t\tadj=int(sqrt((den**2)-(num**2)))\n",
    "\t\topp=int(num)\n",
    "\t\thyp=int(den)\n",
    "\telif cos:\n",
    "\t\topp=int(sqrt((den**2)-(num**2)))\n",
    "\t\tadj=int(num)\n",
    "\t\thyp=int(den)\n",
    "\telse:\n",
    "\t\traise ValueError(\"Invalid input\")\n",
    "\tsin =Fraction(int(opp),int(hyp))\n",
    "\tcos=Fraction(int(adj),int(hyp))\n",
    "\ttan=Fraction(int(opp),int(adj))\n",
    "\n",
    "\treturn (sin, cos, tan)\n",
    "\n",
    "\t\n",
    "all_ratios( 3,4,tan=True)\n",
    "\t\n",
    "\n"
   ]
  },
  {
   "cell_type": "code",
   "execution_count": null,
   "metadata": {},
   "outputs": [],
   "source": []
  }
 ],
 "metadata": {
  "kernelspec": {
   "display_name": "base",
   "language": "python",
   "name": "python3"
  },
  "language_info": {
   "codemirror_mode": {
    "name": "ipython",
    "version": 3
   },
   "file_extension": ".py",
   "mimetype": "text/x-python",
   "name": "python",
   "nbconvert_exporter": "python",
   "pygments_lexer": "ipython3",
   "version": "3.11.5"
  }
 },
 "nbformat": 4,
 "nbformat_minor": 2
}
