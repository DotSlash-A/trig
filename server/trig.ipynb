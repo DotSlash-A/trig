{
 "cells": [
  {
   "cell_type": "code",
   "execution_count": 2,
   "metadata": {},
   "outputs": [],
   "source": [
    "from math import sqrt"
   ]
  },
  {
   "cell_type": "code",
   "execution_count": 3,
   "metadata": {},
   "outputs": [],
   "source": [
    "from fractions import Fraction"
   ]
  },
  {
   "cell_type": "code",
   "execution_count": 4,
   "metadata": {},
   "outputs": [
    {
     "data": {
      "text/plain": [
       "(Fraction(3, 5), Fraction(4, 5), Fraction(3, 4))"
      ]
     },
     "execution_count": 4,
     "metadata": {},
     "output_type": "execute_result"
    }
   ],
   "source": [
    "def all_ratios(exp,num, den):\n",
    "\t\n",
    "\tif exp==\"tan\":\n",
    "\t\thyp=int(sqrt((num**2)+den**2))\n",
    "\t\topp=int(num)\n",
    "\t\tadj=int(den)\n",
    "\tif exp == \"sin\":\n",
    "\t\tadj=int(sqrt((den**2)-(num**2)))\n",
    "\t\topp=int(num)\n",
    "\t\thyp=int(den)\n",
    "\tif exp == \"cos\":\n",
    "\t\topp=int(sqrt((den**2)-(num**2)))\n",
    "\t\tadj=int(num)\n",
    "\t\thyp=int(den)\n",
    "\tsin =Fraction(int(opp),int(hyp))\n",
    "\tcos=Fraction(int(adj),int(hyp))\n",
    "\ttan=Fraction(int(opp),int(adj))\n",
    "\n",
    "\treturn (sin, cos, tan)\n",
    "\n",
    "\t\n",
    "all_ratios(\"tan\", 3,4)\n",
    "\t\n",
    "\n"
   ]
  },
  {
   "cell_type": "code",
   "execution_count": null,
   "metadata": {},
   "outputs": [],
   "source": [
    "def calc_other_side(hyp=None, adj=None, opp=) "
   ]
  },
  {
   "cell_type": "code",
   "execution_count": 6,
   "metadata": {},
   "outputs": [],
   "source": [
    "sin,cos,tan=all_ratios(\"tan\", 3,4)"
   ]
  },
  {
   "cell_type": "code",
   "execution_count": 7,
   "metadata": {},
   "outputs": [
    {
     "data": {
      "text/plain": [
       "Fraction(1, 1)"
      ]
     },
     "execution_count": 7,
     "metadata": {},
     "output_type": "execute_result"
    }
   ],
   "source": [
    "cos ** 2 + sin ** 2"
   ]
  },
  {
   "cell_type": "code",
   "execution_count": 13,
   "metadata": {},
   "outputs": [
    {
     "data": {
      "text/plain": [
       "(Fraction(3, 5), Fraction(4, 5), Fraction(3, 4))"
      ]
     },
     "execution_count": 13,
     "metadata": {},
     "output_type": "execute_result"
    }
   ],
   "source": [
    "def all_ratios(num, den, tan=None,sin=None, cos=None):\n",
    "\t\n",
    "\tif tan:\n",
    "\t\thyp=int(sqrt((num**2)+den**2))\n",
    "\t\topp=int(num)\n",
    "\t\tadj=int(den)\n",
    "\telif sin:\n",
    "\t\tadj=int(sqrt((den**2)-(num**2)))\n",
    "\t\topp=int(num)\n",
    "\t\thyp=int(den)\n",
    "\telif cos:\n",
    "\t\topp=int(sqrt((den**2)-(num**2)))\n",
    "\t\tadj=int(num)\n",
    "\t\thyp=int(den)\n",
    "\telse:\n",
    "\t\traise ValueError(\"Invalid input\")\n",
    "\tsin =Fraction(int(opp),int(hyp))\n",
    "\tcos=Fraction(int(adj),int(hyp))\n",
    "\ttan=Fraction(int(opp),int(adj))\n",
    "\n",
    "\treturn (sin, cos, tan)\n",
    "\n",
    "\t\n",
    "all_ratios( 3,4,tan=True)\n",
    "\t\n",
    "\n"
   ]
  },
  {
   "cell_type": "code",
   "execution_count": 1,
   "metadata": {},
   "outputs": [],
   "source": [
    "from fractions import Fraction\n",
    "\n",
    "def standard_to_slope_intercept(A: float, B: float, C: float) -> str:\n",
    "    \"\"\"\n",
    "    Converts a linear equation from standard form (Ax + By + C = 0) \n",
    "    to slope-intercept form (y = mx + b).\n",
    "    \n",
    "    Args:\n",
    "        A (float): Coefficient of x\n",
    "        B (float): Coefficient of y\n",
    "        C (float): Constant term\n",
    "        \n",
    "    Returns:\n",
    "        str: Equation in slope-intercept form or error message\n",
    "    \"\"\"\n",
    "    if B == 0:\n",
    "        return \"Error: Vertical line (undefined slope), cannot convert.\"\n",
    "    \n",
    "    try:\n",
    "        # Calculate slope (m) and intercept (b) as fractions\n",
    "        m = Fraction(-A, B).limit_denominator()\n",
    "        b = Fraction(-C, B).limit_denominator()\n",
    "        \n",
    "        # Format equation components\n",
    "        slope_term = f\"{m}x\" if m != 0 else \"\"\n",
    "        intercept_sign = \"+\" if b >= 0 else \"-\"\n",
    "        intercept_abs = abs(b)\n",
    "        \n",
    "        # Handle edge cases for cleaner output\n",
    "        if m == 0:\n",
    "            return f\"y = {b}\"  # Horizontal line\n",
    "        elif b == 0:\n",
    "            return f\"y = {m}x\"  # Line through origin\n",
    "        else:\n",
    "            return f\"y = {m}x {intercept_sign} {intercept_abs}\"\n",
    "            \n",
    "    except ZeroDivisionError:\n",
    "        return \"Error: Division by zero occurred.\"\n"
   ]
  },
  {
   "cell_type": "code",
   "execution_count": 2,
   "metadata": {},
   "outputs": [
    {
     "name": "stdout",
     "output_type": "stream",
     "text": [
      "y = -2/3x - 2\n"
     ]
    }
   ],
   "source": [
    "print(standard_to_slope_intercept(2, 3, 6))  \n",
    "# Output: \"y = -2/3x - 2\""
   ]
  },
  {
   "cell_type": "code",
   "execution_count": 1,
   "metadata": {},
   "outputs": [
    {
     "name": "stdout",
     "output_type": "stream",
     "text": [
      "((-1+0j), (-0-1j), (1+0j), 1j, (-1+0j), (-0-1j), (1+0j), 1j)\n"
     ]
    }
   ],
   "source": [
    "import cmath\n",
    "\n",
    "\n",
    "\n",
    "i = 1j\n",
    "terms = (i**2, i**3, i**4, i**5, i**6, i**7, i**8, i**9)\n",
    "print(terms)"
   ]
  },
  {
   "cell_type": "code",
   "execution_count": 3,
   "metadata": {},
   "outputs": [
    {
     "data": {
      "text/plain": [
       "(-9.847460124481555e-14+1j)"
      ]
     },
     "execution_count": 3,
     "metadata": {},
     "output_type": "execute_result"
    }
   ],
   "source": [
    "i**(-999)"
   ]
  },
  {
   "cell_type": "code",
   "execution_count": 4,
   "metadata": {},
   "outputs": [
    {
     "data": {
      "text/plain": [
       "(1+0j)"
      ]
     },
     "execution_count": 4,
     "metadata": {},
     "output_type": "execute_result"
    }
   ],
   "source": [
    "i**0"
   ]
  },
  {
   "cell_type": "code",
   "execution_count": null,
   "metadata": {},
   "outputs": [],
   "source": [
    "numpy.linalg.det(np.array([[1,2 3],[4,5,6],[7,8,9])])"
   ]
  },
  {
   "cell_type": "code",
   "execution_count": 1,
   "metadata": {},
   "outputs": [],
   "source": [
    "import scipy as sp\n"
   ]
  },
  {
   "cell_type": "code",
   "execution_count": 2,
   "metadata": {},
   "outputs": [
    {
     "data": {
      "text/plain": [
       "0.2502822875976561"
      ]
     },
     "execution_count": 2,
     "metadata": {},
     "output_type": "execute_result"
    }
   ],
   "source": [
    "sp.stats.binom.pmf(3, 10, 0.25)"
   ]
  },
  {
   "cell_type": "code",
   "execution_count": 4,
   "metadata": {},
   "outputs": [
    {
     "name": "stdout",
     "output_type": "stream",
     "text": [
      "P(X=0) = 0.05631351470947266\n",
      "P(X=1) = 0.1877117156982421\n",
      "P(X=2) = 0.28156757354736334\n",
      "P(X=3) = 0.2502822875976561\n",
      "P(X=4) = 0.14599800109863273\n",
      "P(X=5) = 0.058399200439453146\n",
      "P(X=6) = 0.016222000122070295\n",
      "P(X=7) = 0.0030899047851562496\n",
      "P(X=8) = 0.00038623809814453125\n",
      "P(X=9) = 2.8610229492187456e-05\n",
      "P(X=10) = 9.5367431640625e-07\n"
     ]
    }
   ],
   "source": [
    "n = 10\n",
    "p = 0.25\n",
    "results = {}\n",
    "for k in range(n + 1):\n",
    "    pmf = sp.stats.binom.pmf(k, n, p)\n",
    "    results[k] = pmf\n",
    "    print(f\"P(X={k}) = {pmf}\")\n",
    "\n",
    "# Or print the dictionary directly\n",
    "# print(results)"
   ]
  },
  {
   "cell_type": "code",
   "execution_count": null,
   "metadata": {},
   "outputs": [],
   "source": []
  }
 ],
 "metadata": {
  "kernelspec": {
   "display_name": "base",
   "language": "python",
   "name": "python3"
  },
  "language_info": {
   "codemirror_mode": {
    "name": "ipython",
    "version": 3
   },
   "file_extension": ".py",
   "mimetype": "text/x-python",
   "name": "python",
   "nbconvert_exporter": "python",
   "pygments_lexer": "ipython3",
   "version": "3.11.5"
  }
 },
 "nbformat": 4,
 "nbformat_minor": 2
}
