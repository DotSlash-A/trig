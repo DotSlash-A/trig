{
 "cells": [
  {
   "cell_type": "code",
   "execution_count": 18,
   "metadata": {},
   "outputs": [],
   "source": [
    "def euclids_lemma(n1,n2):\n",
    "\tprint(\"hi\")     \n",
    "\tdividend=max(n1,n2)\n",
    "\tdivisor=min(n1,n2)\n",
    "\tquotient=dividend//divisor\n",
    "\tremainder=dividend%divisor\n",
    "\n",
    "\t\t \n",
    "\treturn quotient,remainder"
   ]
  },
  {
   "cell_type": "code",
   "execution_count": 19,
   "metadata": {},
   "outputs": [
    {
     "name": "stdout",
     "output_type": "stream",
     "text": [
      "hi\n"
     ]
    },
    {
     "data": {
      "text/plain": [
       "(2, 0)"
      ]
     },
     "execution_count": 19,
     "metadata": {},
     "output_type": "execute_result"
    }
   ],
   "source": [
    "euclids_lemma(10,5)"
   ]
  },
  {
   "cell_type": "code",
   "execution_count": 12,
   "metadata": {},
   "outputs": [
    {
     "data": {
      "text/plain": [
       "2"
      ]
     },
     "execution_count": 12,
     "metadata": {},
     "output_type": "execute_result"
    }
   ],
   "source": [
    "10//5"
   ]
  },
  {
   "cell_type": "code",
   "execution_count": 17,
   "metadata": {},
   "outputs": [
    {
     "name": "stdout",
     "output_type": "stream",
     "text": [
      "hi\n"
     ]
    },
    {
     "data": {
      "text/plain": [
       "{1, 3}"
      ]
     },
     "execution_count": 17,
     "metadata": {},
     "output_type": "execute_result"
    }
   ],
   "source": [
    "euclids_lemma(10,3)"
   ]
  },
  {
   "cell_type": "code",
   "execution_count": 17,
   "metadata": {},
   "outputs": [],
   "source": [
    "def euclids_algo(n1,n2):\n",
    "\tprint(\"hi\")\n",
    "\tdividend=max(n1,n2)\n",
    "\tdivisor=min(n1,n2)\n",
    "\tremainder=dividend%divisor\n",
    "\twhile remainder!=0:     \n",
    "\t\tquotient=dividend//divisor\n",
    "\t\tremainder=dividend%divisor\n",
    "\t\tdividend=divisor\n",
    "\t\tdivisor=remainder\n",
    "\n",
    "\tgcd=dividend    \n",
    "\treturn gcd"
   ]
  },
  {
   "cell_type": "code",
   "execution_count": 19,
   "metadata": {},
   "outputs": [],
   "source": [
    "def euclids_algo1(n1,n2):\n",
    "\tdividend=max(n1,n2)\n",
    "\tdivisor=min(n1,n2)\n",
    "\twhile divisor !=0:\n",
    "\t\tremainder=dividend%divisor\n",
    "\t\tdividend=divisor\n",
    "\t\tdivisor=remainder\n",
    "\tgcd=dividend\n",
    "\treturn gcd"
   ]
  },
  {
   "cell_type": "code",
   "execution_count": 20,
   "metadata": {},
   "outputs": [
    {
     "data": {
      "text/plain": [
       "12"
      ]
     },
     "execution_count": 20,
     "metadata": {},
     "output_type": "execute_result"
    }
   ],
   "source": [
    "euclids_algo1(36,24)"
   ]
  },
  {
   "cell_type": "code",
   "execution_count": 11,
   "metadata": {},
   "outputs": [],
   "source": [
    "def euclids_algo(n1, n2):\n",
    "\tprint(\"hi\")\n",
    "\tdividend = max(n1, n2)\n",
    "\tdivisor = min(n1, n2)\n",
    "\t\n",
    "\twhile divisor != 0:\n",
    "\t\tremainder = dividend % divisor\n",
    "\t\tdividend = divisor\n",
    "\t\tdivisor = remainder\n",
    "\t\n",
    "\tgcd = dividend\n",
    "\treturn gcd"
   ]
  },
  {
   "cell_type": "markdown",
   "metadata": {},
   "source": [
    "prime factorization"
   ]
  },
  {
   "cell_type": "code",
   "execution_count": 27,
   "metadata": {},
   "outputs": [
    {
     "data": {
      "text/plain": [
       "False"
      ]
     },
     "execution_count": 27,
     "metadata": {},
     "output_type": "execute_result"
    }
   ],
   "source": [
    "def is_prime(n1):\n",
    "\tif n1<=1:\n",
    "\t\treturn False\n",
    "\n",
    "\tfor i in range(5,n1):\n",
    "\t\tif n1%i==0:\n",
    "\t\t\treturn False\n",
    "\treturn True\n",
    "is_prime(0)\n",
    "\t"
   ]
  },
  {
   "cell_type": "code",
   "execution_count": 29,
   "metadata": {},
   "outputs": [
    {
     "name": "stdout",
     "output_type": "stream",
     "text": [
      "Function 2 time: 0.0003918999573215842\n"
     ]
    }
   ],
   "source": [
    "import timeit\n",
    "\n",
    "\n",
    "\n",
    "# Measure execution time\n",
    "# time1 = timeit.timeit('is_prime0(3431)', globals=globals(), number=1000)\n",
    "time2 = timeit.timeit('is_prime(3)', globals=globals(), number=1000)\n",
    "\n",
    "# print(f\"Function 1 time: {time1}\")\n",
    "print(f\"Function 2 time: {time2}\")"
   ]
  },
  {
   "cell_type": "code",
   "execution_count": 29,
   "metadata": {},
   "outputs": [
    {
     "name": "stdout",
     "output_type": "stream",
     "text": [
      "0\n",
      "1\n",
      "2\n"
     ]
    }
   ],
   "source": [
    "for i in range(3):\n",
    "\tprint(i)"
   ]
  },
  {
   "cell_type": "code",
   "execution_count": 30,
   "metadata": {},
   "outputs": [],
   "source": [
    "def seive_of_eratosthenes(n):\n",
    "\tsieve=[True for i in range(0,n+1)]\n",
    "\tsieve[0]=False\n",
    "\tsieve[1]=False\n",
    "\tfor i in range(2, int(n**0.5)+1):\n",
    "\t\tif sieve[i]:\n",
    "\t\t\tfor i in range(i*i, n+1, i):\n",
    "\t\t\t\tsieve[i]=False\n",
    "\treturn [p for p in range(n+1) if sieve[p]]\n",
    "\t\t\t\n",
    "\t"
   ]
  },
  {
   "cell_type": "code",
   "execution_count": 32,
   "metadata": {},
   "outputs": [
    {
     "data": {
      "text/plain": [
       "[2, 3, 5, 7, 11]"
      ]
     },
     "execution_count": 32,
     "metadata": {},
     "output_type": "execute_result"
    }
   ],
   "source": [
    "seive_of_eratosthenes(12)"
   ]
  },
  {
   "cell_type": "code",
   "execution_count": 32,
   "metadata": {},
   "outputs": [],
   "source": [
    "def fundamental_theorem_of_arithmetic0(n1):\n",
    "\tprimes_list=seive_of_eratosthenes(n1)\n",
    "\tfor i in primes_list:\n",
    "\t\tif n1%i==0:\n",
    "\t\t\tprint(i)\n",
    "\t\t\tquotient=int(n1//i)\n",
    "\t\t\tif quotient not in primes_list:\n",
    "\t\t\t\t\tfundamental_theorem_of_arithmetic(quotient)\n",
    "\t\t\t# break\n",
    "\t\t\t# this is nt crct\n",
    "\n"
   ]
  },
  {
   "cell_type": "code",
   "execution_count": 102,
   "metadata": {},
   "outputs": [],
   "source": [
    "def sieve_of_eratosthenes(n):\n",
    "\tsieve = [True for i in range(0, n+1)]\n",
    "\tsieve[0] = sieve[1] = False\n",
    "\tfor i in range(2, int(n**0.5) + 1):\n",
    "\t\tif sieve[i]:\n",
    "\t\t\tfor j in range(i*i, n+1, i):\n",
    "\t\t\t\tsieve[j] = False\n",
    "\treturn [p for p in range(n + 1) if sieve[p]]\n",
    "\n",
    "def fundamental_theorem_of_arithmetic(n1, prime_dict=None):\n",
    "\tprimes_list = seive_of_eratosthenes(n1)\n",
    "\tif prime_dict is None:\n",
    "\t\tprime_dict={}\n",
    "\tfor i in primes_list:\n",
    "\t\tif n1 % i == 0:\n",
    "\t\t\t# print(i)\n",
    "\t\t\tprime_dict[i]=prime_dict.get(i,0)+1\n",
    "\t\t\treturn fundamental_theorem_of_arithmetic(n1 // i, prime_dict)\n",
    "\t# print(set(prime_dict.keys()))\n",
    "\t# print(type(set(prime_dict.keys())))\n",
    "\treturn prime_dict\n"
   ]
  },
  {
   "cell_type": "code",
   "execution_count": 103,
   "metadata": {},
   "outputs": [
    {
     "data": {
      "text/plain": [
       "{2, 3}"
      ]
     },
     "execution_count": 103,
     "metadata": {},
     "output_type": "execute_result"
    }
   ],
   "source": [
    "(set(fundamental_theorem_of_arithmetic(12).keys()))"
   ]
  },
  {
   "cell_type": "code",
   "execution_count": 146,
   "metadata": {},
   "outputs": [
    {
     "data": {
      "text/plain": [
       "6"
      ]
     },
     "execution_count": 146,
     "metadata": {},
     "output_type": "execute_result"
    }
   ],
   "source": [
    "def hcf(primes1, primes2, *args):\n",
    "\tcommom_keys = ((key, min(primes1[key], primes2[key])) for key in primes1 if key in primes2)\n",
    "\t# lmc_dict = ((key, min(primes1[key], primes2[key])) for key in primes1.keys() primes2.keys())\n",
    "\thcf = 1\n",
    "\t\n",
    "\t\t\t\n",
    "\tfor key,power in commom_keys:\n",
    "\t\thcf*=key**power\n",
    "\t\t# print(i[0] ** i[1])\n",
    "\treturn hcf\n",
    "\t\t\n",
    "\n",
    "hcf(fundamental_theorem_of_arithmetic(18), fundamental_theorem_of_arithmetic(24))"
   ]
  },
  {
   "cell_type": "code",
   "execution_count": 147,
   "metadata": {},
   "outputs": [],
   "source": [
    "def lcm(hcf,n1,n2):\n",
    "\treturn abs(n1*n2)//hcf"
   ]
  },
  {
   "cell_type": "code",
   "execution_count": 148,
   "metadata": {},
   "outputs": [
    {
     "data": {
      "text/plain": [
       "60"
      ]
     },
     "execution_count": 148,
     "metadata": {},
     "output_type": "execute_result"
    }
   ],
   "source": [
    "lcm(2,6,20)"
   ]
  },
  {
   "cell_type": "code",
   "execution_count": 144,
   "metadata": {},
   "outputs": [
    {
     "data": {
      "text/plain": [
       "6"
      ]
     },
     "execution_count": 144,
     "metadata": {},
     "output_type": "execute_result"
    }
   ],
   "source": [
    "# hcf_lcm(fundamental_theorem_of_arithmetic(18), fundamental_theorem_of_arithmetic(24))"
   ]
  },
  {
   "cell_type": "code",
   "execution_count": 149,
   "metadata": {},
   "outputs": [],
   "source": [
    "from fractions import Fraction\n",
    "def is_rational(num):\n",
    "\ttry:\n",
    "\t\tFraction(num)\n",
    "\t\treturn True\n",
    "\texcept ValueError:\n",
    "\t\treturn False"
   ]
  },
  {
   "cell_type": "code",
   "execution_count": 150,
   "metadata": {},
   "outputs": [
    {
     "data": {
      "text/plain": [
       "True"
      ]
     },
     "execution_count": 150,
     "metadata": {},
     "output_type": "execute_result"
    }
   ],
   "source": [
    "is_rational()"
   ]
  },
  {
   "cell_type": "code",
   "execution_count": 110,
   "metadata": {},
   "outputs": [],
   "source": [
    "# A sample dictionary of products with their prices\n",
    "products = {\n",
    "\t'apple': 0.99,\n",
    "\t'banana': 0.59,\n",
    "\t'cherry': 2.99,\n",
    "\t'date': 3.49,\n",
    "\t'elderberry': 5.99\n",
    "}\n"
   ]
  },
  {
   "cell_type": "code",
   "execution_count": 156,
   "metadata": {},
   "outputs": [],
   "source": [
    "from sympy import symbols, Poly, roots"
   ]
  },
  {
   "cell_type": "code",
   "execution_count": 172,
   "metadata": {},
   "outputs": [],
   "source": [
    "def polynomial(poly_exp):\n",
    "\tx = symbols('x')\n",
    "\tpoly = Poly(poly_exp,x)\n",
    "\tdegree = poly.degree()\n",
    "\tcoeffs=poly.all_coeffs()\n",
    "\t# print(coeffs)\n",
    "\t\n",
    "\troot_dict=roots(poly)\n",
    "\troot_list = list(root_dict.keys())\n",
    "\t# print(root_list)\n",
    "\n",
    "\n",
    "\tsum_of_roots=sum(root_list)\n",
    "\tn=len(root_list)\n",
    "\tprod_of_roots=(-1)**n * coeffs[-1]/ coeffs[0]\n",
    "\n",
    "\treturn degree, sum_of_roots, prod_of_roots, coeffs"
   ]
  },
  {
   "cell_type": "code",
   "execution_count": 173,
   "metadata": {},
   "outputs": [
    {
     "data": {
      "text/plain": [
       "(2, -11/6, -1, [6, 11, -6])"
      ]
     },
     "execution_count": 173,
     "metadata": {},
     "output_type": "execute_result"
    }
   ],
   "source": [
    "x=symbols('x')\n",
    "poly_exp=6*x**2+11*x-6\n",
    "polynomial(poly_exp)"
   ]
  },
  {
   "cell_type": "code",
   "execution_count": null,
   "metadata": {},
   "outputs": [],
   "source": []
  }
 ],
 "metadata": {
  "kernelspec": {
   "display_name": "base",
   "language": "python",
   "name": "python3"
  },
  "language_info": {
   "codemirror_mode": {
    "name": "ipython",
    "version": 3
   },
   "file_extension": ".py",
   "mimetype": "text/x-python",
   "name": "python",
   "nbconvert_exporter": "python",
   "pygments_lexer": "ipython3",
   "version": "3.11.5"
  }
 },
 "nbformat": 4,
 "nbformat_minor": 2
}
