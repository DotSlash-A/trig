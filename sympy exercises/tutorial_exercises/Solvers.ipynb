{
 "cells": [
  {
   "cell_type": "markdown",
   "id": "c2eae453",
   "metadata": {},
   "source": [
    "# Solvers"
   ]
  },
  {
   "cell_type": "markdown",
   "id": "0263a89f",
   "metadata": {},
   "source": [
    "Boilerplate to make the doctester work. "
   ]
  },
  {
   "cell_type": "code",
   "execution_count": 8,
   "id": "17eeb828",
   "metadata": {
    "collapsed": false,
    "jupyter": {
     "outputs_hidden": false
    }
   },
   "outputs": [],
   "source": [
    "import sys\n",
    "import os\n",
    "sys.path.insert(1, os.path.join(os.path.pardir, \"ipython_doctester\"))\n",
    "from sympy import *\n",
    "from ipython_doctester import test\n",
    "# Work around a bug in IPython. This will disable the ability to paste things with >>>\n",
    "def notransform(line): return line\n",
    "from IPython.core import inputsplitter\n",
    "inputsplitter.transform_classic_prompt = notransform\n",
    "init_printing()"
   ]
  },
  {
   "cell_type": "markdown",
   "id": "c67ff433",
   "metadata": {},
   "source": [
    "For each exercise, fill in the function according to its docstring. Execute the cell to see if you did it right. "
   ]
  },
  {
   "cell_type": "code",
   "execution_count": 9,
   "id": "c56ca988",
   "metadata": {
    "collapsed": false,
    "jupyter": {
     "outputs_hidden": false
    }
   },
   "outputs": [],
   "source": [
    "a, b, c, d, x, y, z, t = symbols('a b c d x y z t')\n",
    "f, g, h = symbols('f g h', cls=Function)"
   ]
  },
  {
   "cell_type": "markdown",
   "id": "a78199a2",
   "metadata": {},
   "source": [
    "## Algebraic Equations"
   ]
  },
  {
   "cell_type": "markdown",
   "id": "6d2b5fc4",
   "metadata": {},
   "source": [
    "Write a function that computes the [quadratic equation](http://en.wikipedia.org/wiki/Quadratic_equation)."
   ]
  },
  {
   "cell_type": "code",
   "execution_count": 7,
   "id": "25afd248",
   "metadata": {
    "collapsed": false,
    "jupyter": {
     "outputs_hidden": false
    }
   },
   "outputs": [
    {
     "ename": "SyntaxError",
     "evalue": "invalid syntax (<ipython-input-7-99cd274c3f68>, line 2)",
     "output_type": "error",
     "traceback": [
      "\u001b[0;36m  File \u001b[0;32m\"<ipython-input-7-99cd274c3f68>\"\u001b[0;36m, line \u001b[0;32m2\u001b[0m\n\u001b[0;31m    return ???\u001b[0m\n\u001b[0m           ^\u001b[0m\n\u001b[0;31mSyntaxError\u001b[0m\u001b[0;31m:\u001b[0m invalid syntax\n"
     ]
    }
   ],
   "source": [
    "def quadratic():\n",
    "    return ???\n",
    "quadratic()"
   ]
  },
  {
   "cell_type": "markdown",
   "id": "9db4babe",
   "metadata": {},
   "source": [
    "Write a function that computes the general solution to the cubic $x^3 + ax^2 + bx + c$."
   ]
  },
  {
   "cell_type": "code",
   "execution_count": 10,
   "id": "88412f4d",
   "metadata": {
    "collapsed": false,
    "jupyter": {
     "outputs_hidden": false
    }
   },
   "outputs": [
    {
     "ename": "SyntaxError",
     "evalue": "invalid syntax (<ipython-input-10-258b5a2454f9>, line 2)",
     "output_type": "error",
     "traceback": [
      "\u001b[0;36m  File \u001b[0;32m\"<ipython-input-10-258b5a2454f9>\"\u001b[0;36m, line \u001b[0;32m2\u001b[0m\n\u001b[0;31m    return ???\u001b[0m\n\u001b[0m           ^\u001b[0m\n\u001b[0;31mSyntaxError\u001b[0m\u001b[0;31m:\u001b[0m invalid syntax\n"
     ]
    }
   ],
   "source": [
    "def cubic():\n",
    "    return ???\n",
    "cubic()"
   ]
  },
  {
   "cell_type": "markdown",
   "id": "0309b683",
   "metadata": {},
   "source": [
    "## Differential Equations"
   ]
  },
  {
   "cell_type": "markdown",
   "id": "02dfc217",
   "metadata": {},
   "source": [
    "A population that grows without bound is modeled by the differential equation\n",
    "\n",
    "$$f'(t)=af(t)$$\n",
    "\n",
    "Solve this differential equation using SymPy."
   ]
  },
  {
   "cell_type": "code",
   "execution_count": 7,
   "id": "ce0d823f",
   "metadata": {
    "collapsed": false,
    "jupyter": {
     "outputs_hidden": false
    }
   },
   "outputs": [],
   "source": []
  },
  {
   "cell_type": "markdown",
   "id": "c8d0a7be",
   "metadata": {},
   "source": [
    "If the population growth is bounded, it is modeled by \n",
    "\n",
    "$$f'(t) = f(t)(1 - f(t))$$"
   ]
  },
  {
   "cell_type": "code",
   "execution_count": 7,
   "id": "292445c3",
   "metadata": {
    "collapsed": false,
    "jupyter": {
     "outputs_hidden": false
    }
   },
   "outputs": [],
   "source": []
  }
 ],
 "metadata": {
  "kernelspec": {
   "display_name": "Python 3 (ipykernel)",
   "language": "python",
   "name": "python3"
  },
  "language_info": {
   "name": ""
  }
 },
 "nbformat": 4,
 "nbformat_minor": 5
}
