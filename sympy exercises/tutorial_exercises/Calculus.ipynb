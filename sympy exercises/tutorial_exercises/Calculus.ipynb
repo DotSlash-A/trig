{
 "cells": [
  {
   "cell_type": "markdown",
   "id": "a0bf280a",
   "metadata": {},
   "source": [
    "# Calculus"
   ]
  },
  {
   "cell_type": "markdown",
   "id": "8935553a",
   "metadata": {},
   "source": [
    "Boilerplate to make the doctester work. "
   ]
  },
  {
   "cell_type": "code",
   "execution_count": 1,
   "id": "ba110060-77cf-4502-ab26-ca62fe0365ff",
   "metadata": {},
   "outputs": [],
   "source": [
    "# %pip install sympy ipython\n"
   ]
  },
  {
   "cell_type": "code",
   "execution_count": 1,
   "id": "4d8cde1a-efc9-4ee9-b929-21002f8356fd",
   "metadata": {
    "collapsed": false,
    "jupyter": {
     "outputs_hidden": false
    }
   },
   "outputs": [
    {
     "name": "stdout",
     "output_type": "stream",
     "text": [
      "Requirement already satisfied: ipython in c:\\users\\anany\\anaconda3\\lib\\site-packages (8.15.0)Note: you may need to restart the kernel to use updated packages.\n",
      "\n",
      "Requirement already satisfied: backcall in c:\\users\\anany\\anaconda3\\lib\\site-packages (from ipython) (0.2.0)\n",
      "Requirement already satisfied: decorator in c:\\users\\anany\\anaconda3\\lib\\site-packages (from ipython) (5.1.1)\n",
      "Requirement already satisfied: jedi>=0.16 in c:\\users\\anany\\anaconda3\\lib\\site-packages (from ipython) (0.18.1)\n",
      "Requirement already satisfied: matplotlib-inline in c:\\users\\anany\\anaconda3\\lib\\site-packages (from ipython) (0.1.6)\n",
      "Requirement already satisfied: pickleshare in c:\\users\\anany\\anaconda3\\lib\\site-packages (from ipython) (0.7.5)\n",
      "Requirement already satisfied: prompt-toolkit!=3.0.37,<3.1.0,>=3.0.30 in c:\\users\\anany\\anaconda3\\lib\\site-packages (from ipython) (3.0.36)\n",
      "Requirement already satisfied: pygments>=2.4.0 in c:\\users\\anany\\anaconda3\\lib\\site-packages (from ipython) (2.15.1)\n",
      "Requirement already satisfied: stack-data in c:\\users\\anany\\anaconda3\\lib\\site-packages (from ipython) (0.2.0)\n",
      "Requirement already satisfied: traitlets>=5 in c:\\users\\anany\\anaconda3\\lib\\site-packages (from ipython) (5.7.1)\n",
      "Requirement already satisfied: colorama in c:\\users\\anany\\anaconda3\\lib\\site-packages (from ipython) (0.4.6)\n",
      "Requirement already satisfied: parso<0.9.0,>=0.8.0 in c:\\users\\anany\\anaconda3\\lib\\site-packages (from jedi>=0.16->ipython) (0.8.3)\n",
      "Requirement already satisfied: wcwidth in c:\\users\\anany\\anaconda3\\lib\\site-packages (from prompt-toolkit!=3.0.37,<3.1.0,>=3.0.30->ipython) (0.2.5)\n",
      "Requirement already satisfied: executing in c:\\users\\anany\\anaconda3\\lib\\site-packages (from stack-data->ipython) (0.8.3)\n",
      "Requirement already satisfied: asttokens in c:\\users\\anany\\anaconda3\\lib\\site-packages (from stack-data->ipython) (2.0.5)\n",
      "Requirement already satisfied: pure-eval in c:\\users\\anany\\anaconda3\\lib\\site-packages (from stack-data->ipython) (0.2.2)\n",
      "Requirement already satisfied: six in c:\\users\\anany\\anaconda3\\lib\\site-packages (from asttokens->stack-data->ipython) (1.16.0)\n"
     ]
    }
   ],
   "source": [
    "%pip install ipython\n",
    "\n",
    "import sys\n",
    "import os\n",
    "sys.path.insert(1, os.path.join(os.path.pardir, \"ipython_doctester\"))\n",
    "from sympy import *\n",
    "# from ipython_doctester import test\n",
    "# Work around a bug in IPython. This will disable the ability to paste things with >>>\n",
    "def notransform(line): return line\n",
    "from IPython.core import inputsplitter\n",
    "inputsplitter.transform_classic_prompt = notransform"
   ]
  },
  {
   "cell_type": "markdown",
   "id": "a8596e01",
   "metadata": {},
   "source": [
    "For each exercise, fill in the function according to its docstring. Execute the cell to see if you did it right. "
   ]
  },
  {
   "cell_type": "code",
   "execution_count": 2,
   "id": "c46ab7a6",
   "metadata": {
    "collapsed": false,
    "jupyter": {
     "outputs_hidden": false
    }
   },
   "outputs": [],
   "source": [
    "x, y, z = symbols('x y z')"
   ]
  },
  {
   "cell_type": "markdown",
   "id": "1e861e57",
   "metadata": {},
   "source": [
    "## Derivatives"
   ]
  },
  {
   "cell_type": "markdown",
   "id": "20e9aa51",
   "metadata": {},
   "source": [
    "Compute the following\n",
    "\n",
    "$$ \\frac{d}{dx}\\sin(x)e^x$$\n",
    "$$ \\frac{\\partial}{\\partial x}\\sin(xy)e^x $$\n",
    "$$ \\frac{\\partial^2}{\\partial x\\partial y}\\sin(xy)e^x $$\n"
   ]
  },
  {
   "cell_type": "code",
   "execution_count": 2,
   "id": "1120723a",
   "metadata": {
    "collapsed": false,
    "jupyter": {
     "outputs_hidden": false
    }
   },
   "outputs": [
    {
     "name": "stdout",
     "output_type": "stream",
     "text": [
      "Collecting sympyNote: you may need to restart the kernel to use updated packages.\n"
     ]
    },
    {
     "name": "stderr",
     "output_type": "stream",
     "text": [
      "\n",
      "[notice] A new release of pip is available: 23.0.1 -> 24.3.1\n",
      "[notice] To update, run: C:\\Users\\anany\\AppData\\Local\\Microsoft\\WindowsApps\\PythonSoftwareFoundation.Python.3.10_qbz5n2kfra8p0\\python.exe -m pip install --upgrade pip\n"
     ]
    },
    {
     "name": "stdout",
     "output_type": "stream",
     "text": [
      "\n",
      "  Downloading sympy-1.13.3-py3-none-any.whl (6.2 MB)\n",
      "     ---------------------------------------- 0.0/6.2 MB ? eta -:--:--\n",
      "     ---------------------------------------- 0.0/6.2 MB ? eta -:--:--\n",
      "      --------------------------------------- 0.1/6.2 MB 980.4 kB/s eta 0:00:07\n",
      "     - -------------------------------------- 0.3/6.2 MB 2.0 MB/s eta 0:00:03\n",
      "     ---- ----------------------------------- 0.7/6.2 MB 3.9 MB/s eta 0:00:02\n",
      "     ----- ---------------------------------- 0.9/6.2 MB 4.0 MB/s eta 0:00:02\n",
      "     --------- ------------------------------ 1.5/6.2 MB 6.1 MB/s eta 0:00:01\n",
      "     ---------- ----------------------------- 1.6/6.2 MB 5.2 MB/s eta 0:00:01\n",
      "     --------------- ------------------------ 2.3/6.2 MB 7.1 MB/s eta 0:00:01\n",
      "     ------------------ --------------------- 2.9/6.2 MB 7.5 MB/s eta 0:00:01\n",
      "     -------------------- ------------------- 3.2/6.2 MB 7.6 MB/s eta 0:00:01\n",
      "     ----------------------- ---------------- 3.6/6.2 MB 7.6 MB/s eta 0:00:01\n",
      "     ------------------------- -------------- 3.9/6.2 MB 7.6 MB/s eta 0:00:01\n",
      "     --------------------------- ------------ 4.3/6.2 MB 7.6 MB/s eta 0:00:01\n",
      "     ------------------------------ --------- 4.7/6.2 MB 7.7 MB/s eta 0:00:01\n",
      "     ------------------------------- -------- 4.9/6.2 MB 7.7 MB/s eta 0:00:01\n",
      "     ----------------------------------- ---- 5.5/6.2 MB 7.6 MB/s eta 0:00:01\n",
      "     ------------------------------------- -- 5.9/6.2 MB 7.6 MB/s eta 0:00:01\n",
      "     ---------------------------------------  6.2/6.2 MB 7.7 MB/s eta 0:00:01\n",
      "     ---------------------------------------- 6.2/6.2 MB 7.3 MB/s eta 0:00:00\n",
      "Collecting mpmath<1.4,>=1.1.0\n",
      "  Downloading mpmath-1.3.0-py3-none-any.whl (536 kB)\n",
      "     ---------------------------------------- 0.0/536.2 kB ? eta -:--:--\n",
      "     ---- ----------------------------------- 61.4/536.2 kB ? eta -:--:--\n",
      "     ---------- --------------------------- 143.4/536.2 kB 1.7 MB/s eta 0:00:01\n",
      "     ----------------------- -------------- 337.9/536.2 kB 2.6 MB/s eta 0:00:01\n",
      "     -------------------------------------  532.5/536.2 kB 3.1 MB/s eta 0:00:01\n",
      "     -------------------------------------  532.5/536.2 kB 3.1 MB/s eta 0:00:01\n",
      "     -------------------------------------- 536.2/536.2 kB 2.4 MB/s eta 0:00:00\n",
      "Installing collected packages: mpmath, sympy\n",
      "Successfully installed mpmath-1.3.0 sympy-1.13.3\n"
     ]
    }
   ],
   "source": [
    "%pip install sympy"
   ]
  },
  {
   "cell_type": "code",
   "execution_count": null,
   "id": "7957a3ea",
   "metadata": {
    "collapsed": false,
    "jupyter": {
     "outputs_hidden": false
    }
   },
   "outputs": [],
   "source": []
  },
  {
   "cell_type": "code",
   "execution_count": null,
   "id": "554816da",
   "metadata": {
    "collapsed": false,
    "jupyter": {
     "outputs_hidden": false
    }
   },
   "outputs": [],
   "source": []
  },
  {
   "cell_type": "markdown",
   "id": "71c1404a",
   "metadata": {},
   "source": [
    "Recall l'Hopital's rule, which states that if $$\\lim_{x\\to x_0}\\frac{f(x)}{g(x)}$$ is $\\frac{0}{0}$, $\\frac{\\infty}{\\infty}$, or $-\\frac{\\infty}{\\infty}$, then it is equal to $$\\lim_{x\\to x_0} \\frac{f'(x)}{g'(x)}$$ (we will not consider other indeterminate forms here).  \n",
    "\n",
    "Write a function that computes $\\lim_{x\\to x_0}\\frac{f(x)}{g(x)}$. Use the `fraction` function to get the numerator and denominator of an expression, for example"
   ]
  },
  {
   "cell_type": "code",
   "execution_count": 3,
   "id": "d5314fe8",
   "metadata": {
    "collapsed": false,
    "jupyter": {
     "outputs_hidden": false
    }
   },
   "outputs": [
    {
     "data": {
      "text/plain": [
       "(x, y)"
      ]
     },
     "execution_count": 3,
     "metadata": {},
     "output_type": "execute_result"
    }
   ],
   "source": [
    "fraction(x/y)"
   ]
  },
  {
   "cell_type": "markdown",
   "id": "51491338",
   "metadata": {},
   "source": [
    "You may assume that the only indeterminate forms are the ones mentioned above, and that l'Hopital's rule will terminate after a finite number of steps. Do not use `limit` (use `subs`). Remember that after taking the derivatives, you will need to put the expression into the form $\\frac{f(x)}{g(x)}$ before applying l'Hopital's rule again (what function did we learn that does this?)."
   ]
  },
  {
   "cell_type": "code",
   "execution_count": null,
   "id": "9d07b5c7",
   "metadata": {
    "collapsed": false,
    "jupyter": {
     "outputs_hidden": false
    }
   },
   "outputs": [],
   "source": [
    "@test\n",
    "def lhopital(expr, x, x0):\n",
    "    \"\"\"\n",
    "    Computes limit(expr, x, x0) using l'Hopital's rule.\n",
    "\n",
    "    >>> lhopital(sin(x)/x, x, 0)\n",
    "    1\n",
    "    >>> lhopital(exp(x)/x**2, x, oo)\n",
    "    oo\n",
    "    >>> lhopital((x**2 - 2*x + 4)/(2 - x), x, 2)\n",
    "    -oo\n",
    "    >>> lhopital(x/(2 - x), x, 2)\n",
    "    -oo\n",
    "    >>> lhopital(cos(x), x, 0)\n",
    "    1\n",
    "    >>> lhopital((x + sin(x))/x, x, 0)\n",
    "    2\n",
    "    \"\"\"\n"
   ]
  },
  {
   "cell_type": "markdown",
   "id": "8221bbb9",
   "metadata": {},
   "source": [
    "## Integrals"
   ]
  },
  {
   "cell_type": "markdown",
   "id": "3d73de79",
   "metadata": {},
   "source": [
    "Recall that the mean value of a function on an interval $[a, b]$ can be computed by the formula\n",
    "\n",
    "$$\\frac{1}{b - a}\\int_{a}^{b} f{\\left (x \\right )} dx. % Why doesn't \\, work? $$\n",
    "\n",
    "Write a function that computes the mean value of an expression on a given interval."
   ]
  },
  {
   "cell_type": "code",
   "execution_count": null,
   "id": "3175908d",
   "metadata": {
    "collapsed": false,
    "jupyter": {
     "outputs_hidden": false
    }
   },
   "outputs": [],
   "source": [
    "@test\n",
    "def average_value(expr, x, a, b):\n",
    "    \"\"\"\n",
    "    Computes the average value of expr with respect to x on [a, b].\n",
    "\n",
    "    >>> average_value(sin(x), x, 0, pi)\n",
    "    2/pi\n",
    "    >>> average_value(x, x, 2, 4)\n",
    "    3\n",
    "    >>> average_value(x*y, x, 2, 4)\n",
    "    3*y\n",
    "    \"\"\"\n"
   ]
  },
  {
   "cell_type": "markdown",
   "id": "1f6e6edf",
   "metadata": {},
   "source": [
    "Write a function that takes a list of expressions and produces an \"integral table\", like\n",
    "\n",
    "1. $$\\int \\sin(x)dx = -\\cos(x) + C$$\n",
    "2. $$\\int \\cos(x)dx = \\sin(x) + C$$\n",
    "3. $$\\int e^xdx = e^x + C$$\n",
    "4. $$\\int \\log(x)dx = x(\\log(x) - 1) + C$$"
   ]
  },
  {
   "cell_type": "code",
   "execution_count": null,
   "id": "a024d899",
   "metadata": {
    "collapsed": false,
    "jupyter": {
     "outputs_hidden": false
    }
   },
   "outputs": [],
   "source": [
    "@test\n",
    "def int_table(exprs, x):\n",
    "    \"\"\"\n",
    "    Produces a nice integral table of the integrals of exprs\n",
    "\n",
    "    (note, we have to use pprint(use_unicode=False) because unicode is not supported\n",
    "    by the IPython doctester)\n",
    "\n",
    "    >>> int_table([sin(x), cos(x), exp(x), log(x)], x)\n",
    "      /                      \n",
    "     |                       \n",
    "     | sin(x) dx = C - cos(x)\n",
    "     |                       \n",
    "    /                        \n",
    "      /                      \n",
    "     |                       \n",
    "     | cos(x) dx = C + sin(x)\n",
    "     |                       \n",
    "    /                        \n",
    "      /              \n",
    "     |               \n",
    "     |  x           x\n",
    "     | e  dx = C + e \n",
    "     |               \n",
    "    /                \n",
    "      /                            \n",
    "     |                             \n",
    "     | log(x) dx = C + x*log(x) - x\n",
    "     |                             \n",
    "    /                              \n",
    "    \"\"\"\n"
   ]
  },
  {
   "cell_type": "markdown",
   "id": "442db77e",
   "metadata": {},
   "source": [
    "Now use your function to compute the integrals in this Mathematica ad.  Remember that the inverse trig functions are spelled like `asin` in SymPy. \n",
    "\n",
    "The ad below probably has a typo, because one of the integrals is trivial to compute. Include what you think the integral should be, and see if SymPy can compute that as well."
   ]
  },
  {
   "cell_type": "code",
   "execution_count": 4,
   "id": "da5a7205",
   "metadata": {
    "collapsed": false,
    "jupyter": {
     "outputs_hidden": false
    }
   },
   "outputs": [
    {
     "data": {
      "image/png": "[encoded data removed]",
      "text/plain": [
       "<IPython.core.display.Image at 0x1023b7f50>"
      ]
     },
     "execution_count": 4,
     "metadata": {},
     "output_type": "execute_result"
    }
   ],
   "source": [
    "from IPython.core.display import Image \n",
    "Image(filename='../imgs/Mathematica-ring-a.png') "
   ]
  },
  {
   "cell_type": "code",
   "execution_count": null,
   "id": "31da2d02",
   "metadata": {
    "collapsed": false,
    "jupyter": {
     "outputs_hidden": false
    }
   },
   "outputs": [],
   "source": [
    "# Write the answer here\n"
   ]
  },
  {
   "cell_type": "markdown",
   "id": "295179c1",
   "metadata": {},
   "source": [
    "## Limits"
   ]
  },
  {
   "cell_type": "markdown",
   "id": "5b308d11",
   "metadata": {},
   "source": [
    "Recall that the definition of the derivative of $f(x)$ at $x=x_0$ is $$f'(x_0) = \\lim_{x\\to x_0}\\frac{f(x) - f(x_0)}{x - x_0}.$$  Write a function that computes the derivative using the limit definition, using `limit`."
   ]
  },
  {
   "cell_type": "code",
   "execution_count": null,
   "id": "075fb1d8",
   "metadata": {
    "collapsed": false,
    "jupyter": {
     "outputs_hidden": false
    }
   },
   "outputs": [],
   "source": [
    "@test\n",
    "def lim_deriv(expr, x, x0):\n",
    "    \"\"\"\n",
    "    Computes the derivative of expr with respect to x at x0 using the limit definition.\n",
    "\n",
    "    >>> lim_deriv(x**2, x, 0)\n",
    "    0\n",
    "    >>> lim_deriv(cos(x*y), x, pi)\n",
    "    -y*sin(pi*y)\n",
    "    \n",
    "    Note that we must use this trick to take the derivative without evaluating at a point.\n",
    "    >>> lim_deriv(exp(x**2), x, y).subs(y, x)\n",
    "    2*x*exp(x**2)\n",
    "    \"\"\"\n"
   ]
  },
  {
   "cell_type": "markdown",
   "id": "74f3fba7",
   "metadata": {},
   "source": [
    "The function you wrote above to compute limits using l'Hopital's rule is very fragile. And even if you try to make it sophisticated, it will still be unable to compute many limits.  Try it on the following limits, and see what happens. Then try computing the same limits with `limit`. \n",
    "\n",
    "1. $$\\lim_{x\\to 0}\\frac{\\log(x)}{x}$$\n",
    "2. $$\\lim_{x\\to \\infty}\\frac{2^x}{3^x} \\textbf{Warning: Be sure to save the notebook before you test this one, and be prepared to kill the kernel!}$$\n",
    "3. $$\\lim_{x\\to \\infty}x\\sin{\\left(\\frac{1}{x}\\right)}$$\n",
    "4. $$\\lim_{x\\to 1}\\arctan\\left(\\frac{1}{1 - x}\\right)\\; \\text{Remember that $\\arctan$ is called }\\mathtt{atan}\\text{ in SymPy}$$"
   ]
  },
  {
   "cell_type": "code",
   "execution_count": null,
   "id": "0bd8fc80",
   "metadata": {
    "collapsed": false,
    "jupyter": {
     "outputs_hidden": false
    }
   },
   "outputs": [],
   "source": []
  },
  {
   "cell_type": "code",
   "execution_count": null,
   "id": "f025a5fa",
   "metadata": {
    "collapsed": false,
    "jupyter": {
     "outputs_hidden": false
    }
   },
   "outputs": [],
   "source": []
  },
  {
   "cell_type": "code",
   "execution_count": null,
   "id": "e7e5ce48",
   "metadata": {
    "collapsed": false,
    "jupyter": {
     "outputs_hidden": false
    }
   },
   "outputs": [],
   "source": []
  },
  {
   "cell_type": "code",
   "execution_count": null,
   "id": "ea988b37",
   "metadata": {
    "collapsed": false,
    "jupyter": {
     "outputs_hidden": false
    }
   },
   "outputs": [],
   "source": []
  },
  {
   "cell_type": "code",
   "execution_count": null,
   "id": "cd011bf8",
   "metadata": {
    "collapsed": false,
    "jupyter": {
     "outputs_hidden": false
    }
   },
   "outputs": [],
   "source": []
  },
  {
   "cell_type": "code",
   "execution_count": null,
   "id": "a4ad6141",
   "metadata": {
    "collapsed": false,
    "jupyter": {
     "outputs_hidden": false
    }
   },
   "outputs": [],
   "source": []
  },
  {
   "cell_type": "code",
   "execution_count": null,
   "id": "a325ff6f",
   "metadata": {
    "collapsed": false,
    "jupyter": {
     "outputs_hidden": false
    }
   },
   "outputs": [],
   "source": []
  },
  {
   "cell_type": "code",
   "execution_count": null,
   "id": "443d9064",
   "metadata": {
    "collapsed": false,
    "jupyter": {
     "outputs_hidden": false
    }
   },
   "outputs": [],
   "source": []
  },
  {
   "cell_type": "code",
   "execution_count": null,
   "id": "27f41092",
   "metadata": {
    "collapsed": false,
    "jupyter": {
     "outputs_hidden": false
    }
   },
   "outputs": [],
   "source": []
  },
  {
   "cell_type": "code",
   "execution_count": null,
   "id": "45e0b56d",
   "metadata": {
    "collapsed": false,
    "jupyter": {
     "outputs_hidden": false
    }
   },
   "outputs": [],
   "source": []
  },
  {
   "cell_type": "markdown",
   "id": "c755da3f",
   "metadata": {},
   "source": [
    "## Series"
   ]
  },
  {
   "cell_type": "markdown",
   "id": "7988a374",
   "metadata": {},
   "source": [
    "The Fibonicci sequence is rexcursively defined by \n",
    "\n",
    "$$F_0 = 0,$$\n",
    "$$F_1 = 1,$$\n",
    "$$F_n = F_{n - 1} + F_{n - 2}.$$\n",
    "\n",
    "The first few vales are 0, 1, 1, 2, 3, 5, 8, 13, 21, …\n",
    "\n",
    "The Fibonicci sequence has a generating function given by $$s(x) = \\frac{x}{1 - x - x^2}$$ (see http://en.wikipedia.org/wiki/Fibonacci_number#Power_series for a derivation). What this means is that if we expand $s(x)$ as a power series, the coefficients are the Fibonicci numbers, $$s(x) = \\sum_{n=0}^\\infty F_nx^n$$"
   ]
  },
  {
   "cell_type": "markdown",
   "id": "faf21bd1",
   "metadata": {},
   "source": [
    "Write a function that uses series to compute the nth Fibonicci number. \n",
    "\n",
    "Hint: `expr.coeff(x, n)` will give the coefficient of $x^n$ in an expression. For example"
   ]
  },
  {
   "cell_type": "code",
   "execution_count": 7,
   "id": "a13636fd",
   "metadata": {
    "collapsed": false,
    "jupyter": {
     "outputs_hidden": false
    }
   },
   "outputs": [
    {
     "data": {
      "text/plain": [
       "1"
      ]
     },
     "execution_count": 7,
     "metadata": {},
     "output_type": "execute_result"
    }
   ],
   "source": [
    "(1 + 2*x - x**2).coeff(x, 0)"
   ]
  },
  {
   "cell_type": "code",
   "execution_count": 8,
   "id": "f7584cbf",
   "metadata": {
    "collapsed": false,
    "jupyter": {
     "outputs_hidden": false
    }
   },
   "outputs": [
    {
     "data": {
      "text/plain": [
       "2"
      ]
     },
     "execution_count": 8,
     "metadata": {},
     "output_type": "execute_result"
    }
   ],
   "source": [
    "(1 + 2*x - x**2).coeff(x, 1)"
   ]
  },
  {
   "cell_type": "code",
   "execution_count": 9,
   "id": "bc2894fa",
   "metadata": {
    "collapsed": false,
    "jupyter": {
     "outputs_hidden": false
    }
   },
   "outputs": [
    {
     "data": {
      "text/plain": [
       "-1"
      ]
     },
     "execution_count": 9,
     "metadata": {},
     "output_type": "execute_result"
    }
   ],
   "source": [
    "(1 + 2*x - x**2).coeff(x, 2)"
   ]
  },
  {
   "cell_type": "code",
   "execution_count": null,
   "id": "9987e605",
   "metadata": {
    "collapsed": false,
    "jupyter": {
     "outputs_hidden": false
    }
   },
   "outputs": [],
   "source": [
    "@test\n",
    "def fib(n):\n",
    "    \"\"\"\n",
    "    Uses series expansion and a generating function to compute the nth Fibonnicci number.\n",
    "\n",
    "    >>> fib(0)\n",
    "    0\n",
    "    >>> fib(4)\n",
    "    3\n",
    "    >>> fib(9)\n",
    "    34\n",
    "    \"\"\"\n"
   ]
  },
  {
   "cell_type": "markdown",
   "id": "9c4bef1c",
   "metadata": {},
   "source": [
    "Note: if you really want to compute Fibonicci numbers, there is a function in SymPy called `fibonicci` that can do this far more efficiently."
   ]
  },
  {
   "cell_type": "code",
   "execution_count": 5,
   "id": "c272d034",
   "metadata": {
    "collapsed": false,
    "jupyter": {
     "outputs_hidden": false
    }
   },
   "outputs": [
    {
     "data": {
      "text/plain": [
       "[0, 1, 1, 2, 3, 5, 8, 13, 21, 34]"
      ]
     },
     "execution_count": 5,
     "metadata": {},
     "output_type": "execute_result"
    }
   ],
   "source": [
    "[fibonacci(i) for i in range(10)]"
   ]
  },
  {
   "cell_type": "markdown",
   "id": "08180cfa",
   "metadata": {},
   "source": [
    "`series` is nice if you want a fixed power series, but what if you don't know ahead of time how many terms you want? For that, there is the `lseries` method, which returns a generator of series terms.  This is more efficient than recomputing the whole series again if you determine you need more terms. Here is an example usage (**Warning**: since series are in general infinite, `lseries` will return an infinite generator. Here we use `zip` to limit the number of terms)."
   ]
  },
  {
   "cell_type": "code",
   "execution_count": 6,
   "id": "7322aee8",
   "metadata": {
    "collapsed": false,
    "jupyter": {
     "outputs_hidden": false
    }
   },
   "outputs": [
    {
     "name": "stdout",
     "output_type": "stream",
     "text": [
      "1\n",
      "-x**2/2\n",
      "x**4/24\n",
      "-x**6/720\n",
      "x**8/40320\n",
      "-x**10/3628800\n",
      "x**12/479001600\n",
      "-x**14/87178291200\n",
      "x**16/20922789888000\n",
      "-x**18/6402373705728000\n"
     ]
    }
   ],
   "source": [
    "for term, _ in zip(cos(x).lseries(x, 0), range(10)):\n",
    "    print term"
   ]
  },
  {
   "cell_type": "markdown",
   "id": "3dde8c17",
   "metadata": {},
   "source": [
    "Write a function that computes the number of terms of a series expansion of a given function are needed to compute the given value near the given point within the given accuracy. For example, in the expansion of cos(x) near $\\pi$, suppode we wish to compute $\\pi + 1$. Let us see if terms up to $O(x^6)$ are sufficient (remember that due to a limitation in SymPy, when computing the series away from 0 with `series`, we have to use a shift)"
   ]
  },
  {
   "cell_type": "code",
   "execution_count": 10,
   "id": "a2936b51",
   "metadata": {
    "collapsed": false,
    "jupyter": {
     "outputs_hidden": false
    }
   },
   "outputs": [
    {
     "data": {
      "text/plain": [
       "-0.541666666666667"
      ]
     },
     "execution_count": 10,
     "metadata": {},
     "output_type": "execute_result"
    }
   ],
   "source": [
    "a = cos(x).series(x, pi, 5).removeO().subs(x, x - pi).evalf(subs={x: pi + 1})\n",
    "a"
   ]
  },
  {
   "cell_type": "code",
   "execution_count": 11,
   "id": "c50a26c9",
   "metadata": {
    "collapsed": false,
    "jupyter": {
     "outputs_hidden": false
    }
   },
   "outputs": [
    {
     "data": {
      "text/plain": [
       "-0.540302305868140"
      ]
     },
     "execution_count": 11,
     "metadata": {},
     "output_type": "execute_result"
    }
   ],
   "source": [
    "b = cos(pi + 1).evalf()\n",
    "b"
   ]
  },
  {
   "cell_type": "markdown",
   "id": "45427497",
   "metadata": {},
   "source": [
    "So the expansion is accurate up to two places after the decimal point, i.e., within `0.01`. "
   ]
  },
  {
   "cell_type": "code",
   "execution_count": 12,
   "id": "f5990166",
   "metadata": {
    "collapsed": false,
    "jupyter": {
     "outputs_hidden": false
    }
   },
   "outputs": [
    {
     "data": {
      "text/plain": [
       "True"
      ]
     },
     "execution_count": 12,
     "metadata": {},
     "output_type": "execute_result"
    }
   ],
   "source": [
    "abs(a - b) < 0.01"
   ]
  },
  {
   "cell_type": "markdown",
   "id": "b615b898",
   "metadata": {},
   "source": [
    "Note, with `lseries`, we do not need to worry about shifts"
   ]
  },
  {
   "cell_type": "code",
   "execution_count": 13,
   "id": "c683c5fb",
   "metadata": {
    "collapsed": false,
    "jupyter": {
     "outputs_hidden": false
    }
   },
   "outputs": [
    {
     "name": "stdout",
     "output_type": "stream",
     "text": [
      "-1\n",
      "(x - pi)**2/2\n",
      "-(x - pi)**4/24\n",
      "(x - pi)**6/720\n",
      "-(x - pi)**8/40320\n",
      "(x - pi)**10/3628800\n",
      "-(x - pi)**12/479001600\n",
      "(x - pi)**14/87178291200\n",
      "-(x - pi)**16/20922789888000\n",
      "(x - pi)**18/6402373705728000\n"
     ]
    }
   ],
   "source": [
    "for term, _ in zip(cos(x).lseries(x, pi), range(10)):\n",
    "    print term"
   ]
  },
  {
   "cell_type": "markdown",
   "id": "fa387b99",
   "metadata": {},
   "source": [
    "Hint: to get the exponent from a term like `3*(x - 1)**5`, use `as_coeff_exponent`. "
   ]
  },
  {
   "cell_type": "code",
   "execution_count": 14,
   "id": "65233e21",
   "metadata": {
    "collapsed": false,
    "jupyter": {
     "outputs_hidden": false
    }
   },
   "outputs": [
    {
     "data": {
      "text/plain": [
       "(3, 5)"
      ]
     },
     "execution_count": 14,
     "metadata": {},
     "output_type": "execute_result"
    }
   ],
   "source": [
    "(3*(x - 1)**5).as_coeff_exponent(x - 1)"
   ]
  },
  {
   "cell_type": "code",
   "execution_count": null,
   "id": "6b870b8e",
   "metadata": {
    "collapsed": false,
    "jupyter": {
     "outputs_hidden": false
    }
   },
   "outputs": [],
   "source": [
    "@test\n",
    "def series_accuracy(func, expansion_point, evaluation_point, accuracy, x):\n",
    "    \"\"\"\n",
    "    Returns n such that series terms up to and including (x - expansion_point)**n \n",
    "    (i.e., O((x - expansion_point)**(n + 1)) are needed to compute func at \n",
    "    evaluation_point within the given accuracy.\n",
    "\n",
    "    >>> series_accuracy(cos(x), pi, pi + 1, 0.01, x)\n",
    "    4\n",
    "    >>> series_accuracy(exp(x), 1, 10, 1, x)\n",
    "    23\n",
    "    \"\"\"\n"
   ]
  }
 ],
 "metadata": {
  "kernelspec": {
   "display_name": "base",
   "language": "python",
   "name": "python3"
  },
  "language_info": {
   "codemirror_mode": {
    "name": "ipython",
    "version": 3
   },
   "file_extension": ".py",
   "mimetype": "text/x-python",
   "name": "python",
   "nbconvert_exporter": "python",
   "pygments_lexer": "ipython3",
   "version": "3.11.5"
  }
 },
 "nbformat": 4,
 "nbformat_minor": 5
}
